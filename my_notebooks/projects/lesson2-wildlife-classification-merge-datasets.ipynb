{
 "cells": [
  {
   "cell_type": "markdown",
   "metadata": {},
   "source": [
    "## Merge Datasets"
   ]
  },
  {
   "cell_type": "code",
   "execution_count": 1,
   "metadata": {},
   "outputs": [],
   "source": [
    "from fastai.vision import *"
   ]
  },
  {
   "cell_type": "code",
   "execution_count": 2,
   "metadata": {},
   "outputs": [
    {
     "name": "stdout",
     "output_type": "stream",
     "text": [
      "/home/jupyter/tutorials/data/wildlife-classification2\n"
     ]
    }
   ],
   "source": [
    "cd ~/tutorials/data/wildlife-classification2"
   ]
  },
  {
   "cell_type": "code",
   "execution_count": 3,
   "metadata": {},
   "outputs": [],
   "source": [
    "path = Path('/home/jupyter/tutorials/data/wildlife-classification2')"
   ]
  },
  {
   "cell_type": "markdown",
   "metadata": {},
   "source": [
    "## Import and clean the csv files: "
   ]
  },
  {
   "cell_type": "code",
   "execution_count": 4,
   "metadata": {},
   "outputs": [
    {
     "data": {
      "text/plain": [
       "(12192, 2)"
      ]
     },
     "execution_count": 4,
     "metadata": {},
     "output_type": "execute_result"
    }
   ],
   "source": [
    "X_CDB_1 = pd.read_csv(path/\"CDB_S1_report_lila.csv\", skipinitialspace = True, usecols = ['capture_id','question__species'])\n",
    "X_CDB_1.columns = ['id','species']\n",
    "X_CDB_1.to_csv('X_CDB_1.csv', index=False)\n",
    "X_CDB_1.shape"
   ]
  },
  {
   "cell_type": "code",
   "execution_count": 5,
   "metadata": {},
   "outputs": [
    {
     "data": {
      "text/plain": [
       "(30551, 2)"
      ]
     },
     "execution_count": 5,
     "metadata": {},
     "output_type": "execute_result"
    }
   ],
   "source": [
    "X_CDB_2 = pd.read_csv(path/\"CDB_S1_report_lila_image_inventory.csv\", usecols = ['capture_id','image_path_rel'])\n",
    "X_CDB_2 .columns = ['id','path']\n",
    "X_CDB_2 .to_csv('X_CDB_2 .csv', index=False)\n",
    "X_CDB_2 .shape"
   ]
  },
  {
   "cell_type": "code",
   "execution_count": 6,
   "metadata": {},
   "outputs": [
    {
     "data": {
      "text/plain": [
       "(13699, 2)"
      ]
     },
     "execution_count": 6,
     "metadata": {},
     "output_type": "execute_result"
    }
   ],
   "source": [
    "X_ENO_1 = pd.read_csv(path/\"ENO_S1_report_lila.csv\", skipinitialspace = True, usecols = ['capture_id','question__species'])\n",
    "X_ENO_1.columns = ['id','species']\n",
    "X_ENO_1.to_csv('X_ENO_1', index=False)\n",
    "X_ENO_1.shape"
   ]
  },
  {
   "cell_type": "code",
   "execution_count": 7,
   "metadata": {},
   "outputs": [
    {
     "data": {
      "text/plain": [
       "(29414, 2)"
      ]
     },
     "execution_count": 7,
     "metadata": {},
     "output_type": "execute_result"
    }
   ],
   "source": [
    "X_ENO_2 = pd.read_csv(path/\"ENO_S1_report_lila_image_inventory.csv\", usecols = ['capture_id','image_path_rel'])\n",
    "X_ENO_2.columns = ['id','path']\n",
    "X_ENO_2.to_csv('X_ENO_2.csv', index=False)\n",
    "X_ENO_2.shape"
   ]
  },
  {
   "cell_type": "code",
   "execution_count": 8,
   "metadata": {},
   "outputs": [
    {
     "data": {
      "text/plain": [
       "(3626, 2)"
      ]
     },
     "execution_count": 8,
     "metadata": {},
     "output_type": "execute_result"
    }
   ],
   "source": [
    "X_KGA_1 = pd.read_csv(path/\"KGA_S1_report_lila.csv\", skipinitialspace = True, usecols = ['capture_id','question__species'])\n",
    "X_KGA_1.columns = ['id','species']\n",
    "X_KGA_1.to_csv('X_KGA_1.csv', index=False)\n",
    "X_KGA_1.shape"
   ]
  },
  {
   "cell_type": "code",
   "execution_count": 9,
   "metadata": {},
   "outputs": [
    {
     "data": {
      "text/plain": [
       "(10357, 2)"
      ]
     },
     "execution_count": 9,
     "metadata": {},
     "output_type": "execute_result"
    }
   ],
   "source": [
    "X_KGA_2 = pd.read_csv(path/\"KGA_S1_report_lila_image_inventory.csv\", usecols = ['capture_id','image_path_rel'])\n",
    "X_KGA_2.columns = ['id','path']\n",
    "X_KGA_2.to_csv('X_KGA_2.csv', index=False)\n",
    "X_KGA_2.shape"
   ]
  },
  {
   "cell_type": "code",
   "execution_count": null,
   "metadata": {},
   "outputs": [],
   "source": [
    "X_KRU_1 = pd.read_csv(path/\"KRU_S1_report_lila.csv\", skipinitialspace = True, usecols = ['capture_id','question__species'])\n",
    "X_KRU_1.columns = ['id','species']\n",
    "X_KRU_1.to_csv('X_KRU_1.csv', index=False)\n",
    "X_KRU_1.shape"
   ]
  },
  {
   "cell_type": "code",
   "execution_count": null,
   "metadata": {},
   "outputs": [],
   "source": [
    "X_KRU_2 = pd.read_csv(path/\"KRU_S1_report_lila_image_inventory.csv\", usecols = ['capture_id','image_path_rel'])\n",
    "X_KRU_2.columns = ['id','path']\n",
    "X_KRU_2.to_csv('X_KRU_2.csv', index=False)\n",
    "X_KRU_2.shape"
   ]
  },
  {
   "cell_type": "markdown",
   "metadata": {},
   "source": [
    "## Combine the individual csv files:"
   ]
  },
  {
   "cell_type": "code",
   "execution_count": 10,
   "metadata": {},
   "outputs": [
    {
     "data": {
      "text/plain": [
       "(30717, 3)"
      ]
     },
     "execution_count": 10,
     "metadata": {},
     "output_type": "execute_result"
    }
   ],
   "source": [
    "X_CDB_3 = pd.merge(X_CDB_2, X_CDB_1, on='id', how='inner')\n",
    "X_CDB_3.shape"
   ]
  },
  {
   "cell_type": "code",
   "execution_count": 11,
   "metadata": {},
   "outputs": [
    {
     "data": {
      "text/plain": [
       "(30542, 3)"
      ]
     },
     "execution_count": 11,
     "metadata": {},
     "output_type": "execute_result"
    }
   ],
   "source": [
    "X_ENO_3 = pd.merge(X_ENO_2, X_ENO_1, on='id', how='inner')\n",
    "X_ENO_3.shape"
   ]
  },
  {
   "cell_type": "code",
   "execution_count": 12,
   "metadata": {},
   "outputs": [
    {
     "data": {
      "text/plain": [
       "(10402, 3)"
      ]
     },
     "execution_count": 12,
     "metadata": {},
     "output_type": "execute_result"
    }
   ],
   "source": [
    "X_KGA_3 = pd.merge(X_KGA_2, X_KGA_1, on='id', how='inner')\n",
    "X_KGA_3.shape"
   ]
  },
  {
   "cell_type": "code",
   "execution_count": null,
   "metadata": {},
   "outputs": [],
   "source": [
    "X_KRU_3 = pd.merge(X_KRU_2, X_KRU_1, on='id', how='inner')\n",
    "X_KRU_3.shape"
   ]
  },
  {
   "cell_type": "markdown",
   "metadata": {},
   "source": [
    "## Combine all the csv files into one: "
   ]
  },
  {
   "cell_type": "code",
   "execution_count": 13,
   "metadata": {},
   "outputs": [
    {
     "data": {
      "text/plain": [
       "(67823, 3)"
      ]
     },
     "execution_count": 13,
     "metadata": {},
     "output_type": "execute_result"
    }
   ],
   "source": [
    "X_1 = pd.concat([X_CDB_3, X_ENO_3, X_KGA_3], ignore_index=True)\n",
    "X_1.drop_duplicates(subset='path', keep = False, inplace = True)\n",
    "X_1 = X_1[X_1.species != 'fire']\n",
    "X_1 = X_1[X_1.species != 'human']\n",
    "X_1.shape"
   ]
  },
  {
   "cell_type": "code",
   "execution_count": 14,
   "metadata": {},
   "outputs": [],
   "source": [
    "def w(x):\n",
    "    if (x == \"blank\"):\n",
    "        return \"blank\"\n",
    "    else:\n",
    "        return \"animal\""
   ]
  },
  {
   "cell_type": "code",
   "execution_count": 15,
   "metadata": {},
   "outputs": [
    {
     "data": {
      "text/html": [
       "<div>\n",
       "<style scoped>\n",
       "    .dataframe tbody tr th:only-of-type {\n",
       "        vertical-align: middle;\n",
       "    }\n",
       "\n",
       "    .dataframe tbody tr th {\n",
       "        vertical-align: top;\n",
       "    }\n",
       "\n",
       "    .dataframe thead th {\n",
       "        text-align: right;\n",
       "    }\n",
       "</style>\n",
       "<table border=\"1\" class=\"dataframe\">\n",
       "  <thead>\n",
       "    <tr style=\"text-align: right;\">\n",
       "      <th></th>\n",
       "      <th>id</th>\n",
       "      <th>path</th>\n",
       "      <th>species</th>\n",
       "      <th>animal</th>\n",
       "    </tr>\n",
       "  </thead>\n",
       "  <tbody>\n",
       "    <tr>\n",
       "      <th>6</th>\n",
       "      <td>CDB_S1#A05#1#3</td>\n",
       "      <td>CDB_S1/A05/A05_R1/CDB_S1_A05_R1_IMAG0007.JPG</td>\n",
       "      <td>blank</td>\n",
       "      <td>blank</td>\n",
       "    </tr>\n",
       "    <tr>\n",
       "      <th>7</th>\n",
       "      <td>CDB_S1#A05#1#4</td>\n",
       "      <td>CDB_S1/A05/A05_R1/CDB_S1_A05_R1_IMAG0008.JPG</td>\n",
       "      <td>hartebeestred</td>\n",
       "      <td>animal</td>\n",
       "    </tr>\n",
       "    <tr>\n",
       "      <th>8</th>\n",
       "      <td>CDB_S1#A05#1#5</td>\n",
       "      <td>CDB_S1/A05/A05_R1/CDB_S1_A05_R1_IMAG0009.JPG</td>\n",
       "      <td>monkeyvervet</td>\n",
       "      <td>animal</td>\n",
       "    </tr>\n",
       "    <tr>\n",
       "      <th>9</th>\n",
       "      <td>CDB_S1#A05#1#5</td>\n",
       "      <td>CDB_S1/A05/A05_R1/CDB_S1_A05_R1_IMAG0010.JPG</td>\n",
       "      <td>monkeyvervet</td>\n",
       "      <td>animal</td>\n",
       "    </tr>\n",
       "    <tr>\n",
       "      <th>10</th>\n",
       "      <td>CDB_S1#A05#1#5</td>\n",
       "      <td>CDB_S1/A05/A05_R1/CDB_S1_A05_R1_IMAG0011.JPG</td>\n",
       "      <td>monkeyvervet</td>\n",
       "      <td>animal</td>\n",
       "    </tr>\n",
       "  </tbody>\n",
       "</table>\n",
       "</div>"
      ],
      "text/plain": [
       "                id                                          path  \\\n",
       "6   CDB_S1#A05#1#3  CDB_S1/A05/A05_R1/CDB_S1_A05_R1_IMAG0007.JPG   \n",
       "7   CDB_S1#A05#1#4  CDB_S1/A05/A05_R1/CDB_S1_A05_R1_IMAG0008.JPG   \n",
       "8   CDB_S1#A05#1#5  CDB_S1/A05/A05_R1/CDB_S1_A05_R1_IMAG0009.JPG   \n",
       "9   CDB_S1#A05#1#5  CDB_S1/A05/A05_R1/CDB_S1_A05_R1_IMAG0010.JPG   \n",
       "10  CDB_S1#A05#1#5  CDB_S1/A05/A05_R1/CDB_S1_A05_R1_IMAG0011.JPG   \n",
       "\n",
       "          species  animal  \n",
       "6           blank   blank  \n",
       "7   hartebeestred  animal  \n",
       "8    monkeyvervet  animal  \n",
       "9    monkeyvervet  animal  \n",
       "10   monkeyvervet  animal  "
      ]
     },
     "execution_count": 15,
     "metadata": {},
     "output_type": "execute_result"
    }
   ],
   "source": [
    "X_1['animal'] = X_1['species'].apply(w)\n",
    "X_1.to_csv('X_1.csv', index=False)\n",
    "X_1.head(5)"
   ]
  },
  {
   "cell_type": "code",
   "execution_count": 16,
   "metadata": {},
   "outputs": [
    {
     "data": {
      "text/html": [
       "<div>\n",
       "<style scoped>\n",
       "    .dataframe tbody tr th:only-of-type {\n",
       "        vertical-align: middle;\n",
       "    }\n",
       "\n",
       "    .dataframe tbody tr th {\n",
       "        vertical-align: top;\n",
       "    }\n",
       "\n",
       "    .dataframe thead th {\n",
       "        text-align: right;\n",
       "    }\n",
       "</style>\n",
       "<table border=\"1\" class=\"dataframe\">\n",
       "  <thead>\n",
       "    <tr style=\"text-align: right;\">\n",
       "      <th></th>\n",
       "      <th>id</th>\n",
       "      <th>path</th>\n",
       "      <th>species</th>\n",
       "      <th>animal</th>\n",
       "    </tr>\n",
       "  </thead>\n",
       "  <tbody>\n",
       "    <tr>\n",
       "      <th>35000</th>\n",
       "      <td>ENO_S1#B05#2#178</td>\n",
       "      <td>ENO_S1/B05/B05_R2/ENO_S1_B05_R2_IMAG0443.JPG</td>\n",
       "      <td>blank</td>\n",
       "      <td>blank</td>\n",
       "    </tr>\n",
       "    <tr>\n",
       "      <th>35001</th>\n",
       "      <td>ENO_S1#B05#2#178</td>\n",
       "      <td>ENO_S1/B05/B05_R2/ENO_S1_B05_R2_IMAG0444.JPG</td>\n",
       "      <td>blank</td>\n",
       "      <td>blank</td>\n",
       "    </tr>\n",
       "    <tr>\n",
       "      <th>35002</th>\n",
       "      <td>ENO_S1#B05#2#179</td>\n",
       "      <td>ENO_S1/B05/B05_R2/ENO_S1_B05_R2_IMAG0445.JPG</td>\n",
       "      <td>warthog</td>\n",
       "      <td>animal</td>\n",
       "    </tr>\n",
       "    <tr>\n",
       "      <th>35003</th>\n",
       "      <td>ENO_S1#B05#2#179</td>\n",
       "      <td>ENO_S1/B05/B05_R2/ENO_S1_B05_R2_IMAG0446.JPG</td>\n",
       "      <td>warthog</td>\n",
       "      <td>animal</td>\n",
       "    </tr>\n",
       "    <tr>\n",
       "      <th>35004</th>\n",
       "      <td>ENO_S1#B05#2#179</td>\n",
       "      <td>ENO_S1/B05/B05_R2/ENO_S1_B05_R2_IMAG0447.JPG</td>\n",
       "      <td>warthog</td>\n",
       "      <td>animal</td>\n",
       "    </tr>\n",
       "    <tr>\n",
       "      <th>35005</th>\n",
       "      <td>ENO_S1#B05#2#180</td>\n",
       "      <td>ENO_S1/B05/B05_R2/ENO_S1_B05_R2_IMAG0448.JPG</td>\n",
       "      <td>hyenaspotted</td>\n",
       "      <td>animal</td>\n",
       "    </tr>\n",
       "    <tr>\n",
       "      <th>35006</th>\n",
       "      <td>ENO_S1#B05#2#180</td>\n",
       "      <td>ENO_S1/B05/B05_R2/ENO_S1_B05_R2_IMAG0449.JPG</td>\n",
       "      <td>hyenaspotted</td>\n",
       "      <td>animal</td>\n",
       "    </tr>\n",
       "    <tr>\n",
       "      <th>35007</th>\n",
       "      <td>ENO_S1#B05#2#180</td>\n",
       "      <td>ENO_S1/B05/B05_R2/ENO_S1_B05_R2_IMAG0450.JPG</td>\n",
       "      <td>hyenaspotted</td>\n",
       "      <td>animal</td>\n",
       "    </tr>\n",
       "    <tr>\n",
       "      <th>35008</th>\n",
       "      <td>ENO_S1#B05#2#181</td>\n",
       "      <td>ENO_S1/B05/B05_R2/ENO_S1_B05_R2_IMAG0451.JPG</td>\n",
       "      <td>dikdik</td>\n",
       "      <td>animal</td>\n",
       "    </tr>\n",
       "    <tr>\n",
       "      <th>35009</th>\n",
       "      <td>ENO_S1#B05#2#181</td>\n",
       "      <td>ENO_S1/B05/B05_R2/ENO_S1_B05_R2_IMAG0452.JPG</td>\n",
       "      <td>dikdik</td>\n",
       "      <td>animal</td>\n",
       "    </tr>\n",
       "    <tr>\n",
       "      <th>35010</th>\n",
       "      <td>ENO_S1#B05#2#181</td>\n",
       "      <td>ENO_S1/B05/B05_R2/ENO_S1_B05_R2_IMAG0453.JPG</td>\n",
       "      <td>dikdik</td>\n",
       "      <td>animal</td>\n",
       "    </tr>\n",
       "  </tbody>\n",
       "</table>\n",
       "</div>"
      ],
      "text/plain": [
       "                     id                                          path  \\\n",
       "35000  ENO_S1#B05#2#178  ENO_S1/B05/B05_R2/ENO_S1_B05_R2_IMAG0443.JPG   \n",
       "35001  ENO_S1#B05#2#178  ENO_S1/B05/B05_R2/ENO_S1_B05_R2_IMAG0444.JPG   \n",
       "35002  ENO_S1#B05#2#179  ENO_S1/B05/B05_R2/ENO_S1_B05_R2_IMAG0445.JPG   \n",
       "35003  ENO_S1#B05#2#179  ENO_S1/B05/B05_R2/ENO_S1_B05_R2_IMAG0446.JPG   \n",
       "35004  ENO_S1#B05#2#179  ENO_S1/B05/B05_R2/ENO_S1_B05_R2_IMAG0447.JPG   \n",
       "35005  ENO_S1#B05#2#180  ENO_S1/B05/B05_R2/ENO_S1_B05_R2_IMAG0448.JPG   \n",
       "35006  ENO_S1#B05#2#180  ENO_S1/B05/B05_R2/ENO_S1_B05_R2_IMAG0449.JPG   \n",
       "35007  ENO_S1#B05#2#180  ENO_S1/B05/B05_R2/ENO_S1_B05_R2_IMAG0450.JPG   \n",
       "35008  ENO_S1#B05#2#181  ENO_S1/B05/B05_R2/ENO_S1_B05_R2_IMAG0451.JPG   \n",
       "35009  ENO_S1#B05#2#181  ENO_S1/B05/B05_R2/ENO_S1_B05_R2_IMAG0452.JPG   \n",
       "35010  ENO_S1#B05#2#181  ENO_S1/B05/B05_R2/ENO_S1_B05_R2_IMAG0453.JPG   \n",
       "\n",
       "            species  animal  \n",
       "35000         blank   blank  \n",
       "35001         blank   blank  \n",
       "35002       warthog  animal  \n",
       "35003       warthog  animal  \n",
       "35004       warthog  animal  \n",
       "35005  hyenaspotted  animal  \n",
       "35006  hyenaspotted  animal  \n",
       "35007  hyenaspotted  animal  \n",
       "35008        dikdik  animal  \n",
       "35009        dikdik  animal  \n",
       "35010        dikdik  animal  "
      ]
     },
     "execution_count": 16,
     "metadata": {},
     "output_type": "execute_result"
    }
   ],
   "source": [
    "X_1.loc[35000:35010]"
   ]
  },
  {
   "cell_type": "code",
   "execution_count": 17,
   "metadata": {},
   "outputs": [
    {
     "data": {
      "text/plain": [
       "<matplotlib.axes._subplots.AxesSubplot at 0x7f8a9c1ea450>"
      ]
     },
     "execution_count": 17,
     "metadata": {},
     "output_type": "execute_result"
    },
    {
     "data": {
      "image/png": "[encoded data removed]",
      "text/plain": [
       "<Figure size 432x288 with 1 Axes>"
      ]
     },
     "metadata": {
      "needs_background": "light"
     },
     "output_type": "display_data"
    }
   ],
   "source": [
    "X_1['species'].value_counts().plot(kind='bar')"
   ]
  },
  {
   "cell_type": "code",
   "execution_count": 18,
   "metadata": {},
   "outputs": [
    {
     "data": {
      "text/plain": [
       "<matplotlib.axes._subplots.AxesSubplot at 0x7f8a9d6035d0>"
      ]
     },
     "execution_count": 18,
     "metadata": {},
     "output_type": "execute_result"
    },
    {
     "data": {
      "image/png": "[encoded data removed]",
      "text/plain": [
       "<Figure size 432x288 with 1 Axes>"
      ]
     },
     "metadata": {
      "needs_background": "light"
     },
     "output_type": "display_data"
    }
   ],
   "source": [
    "X_1['animal'].value_counts().plot(kind='bar')"
   ]
  },
  {
   "cell_type": "markdown",
   "metadata": {},
   "source": [
    "## Create a binary animal/blank csv"
   ]
  },
  {
   "cell_type": "code",
   "execution_count": 22,
   "metadata": {},
   "outputs": [
    {
     "data": {
      "text/html": [
       "<div>\n",
       "<style scoped>\n",
       "    .dataframe tbody tr th:only-of-type {\n",
       "        vertical-align: middle;\n",
       "    }\n",
       "\n",
       "    .dataframe tbody tr th {\n",
       "        vertical-align: top;\n",
       "    }\n",
       "\n",
       "    .dataframe thead th {\n",
       "        text-align: right;\n",
       "    }\n",
       "</style>\n",
       "<table border=\"1\" class=\"dataframe\">\n",
       "  <thead>\n",
       "    <tr style=\"text-align: right;\">\n",
       "      <th></th>\n",
       "      <th>path</th>\n",
       "      <th>animal</th>\n",
       "    </tr>\n",
       "  </thead>\n",
       "  <tbody>\n",
       "    <tr>\n",
       "      <th>0</th>\n",
       "      <td>CDB_S1/A05/A05_R1/CDB_S1_A05_R1_IMAG0007.JPG</td>\n",
       "      <td>blank</td>\n",
       "    </tr>\n",
       "    <tr>\n",
       "      <th>1</th>\n",
       "      <td>CDB_S1/A05/A05_R1/CDB_S1_A05_R1_IMAG0008.JPG</td>\n",
       "      <td>animal</td>\n",
       "    </tr>\n",
       "    <tr>\n",
       "      <th>2</th>\n",
       "      <td>CDB_S1/A05/A05_R1/CDB_S1_A05_R1_IMAG0009.JPG</td>\n",
       "      <td>animal</td>\n",
       "    </tr>\n",
       "    <tr>\n",
       "      <th>3</th>\n",
       "      <td>CDB_S1/A05/A05_R1/CDB_S1_A05_R1_IMAG0010.JPG</td>\n",
       "      <td>animal</td>\n",
       "    </tr>\n",
       "    <tr>\n",
       "      <th>4</th>\n",
       "      <td>CDB_S1/A05/A05_R1/CDB_S1_A05_R1_IMAG0011.JPG</td>\n",
       "      <td>animal</td>\n",
       "    </tr>\n",
       "    <tr>\n",
       "      <th>5</th>\n",
       "      <td>CDB_S1/A05/A05_R1/CDB_S1_A05_R1_IMAG0012.JPG</td>\n",
       "      <td>animal</td>\n",
       "    </tr>\n",
       "    <tr>\n",
       "      <th>6</th>\n",
       "      <td>CDB_S1/A05/A05_R1/CDB_S1_A05_R1_IMAG0013.JPG</td>\n",
       "      <td>animal</td>\n",
       "    </tr>\n",
       "    <tr>\n",
       "      <th>7</th>\n",
       "      <td>CDB_S1/A05/A05_R1/CDB_S1_A05_R1_IMAG0014.JPG</td>\n",
       "      <td>animal</td>\n",
       "    </tr>\n",
       "    <tr>\n",
       "      <th>8</th>\n",
       "      <td>CDB_S1/A05/A05_R1/CDB_S1_A05_R1_IMAG0015.JPG</td>\n",
       "      <td>animal</td>\n",
       "    </tr>\n",
       "    <tr>\n",
       "      <th>9</th>\n",
       "      <td>CDB_S1/A05/A05_R1/CDB_S1_A05_R1_IMAG0016.JPG</td>\n",
       "      <td>animal</td>\n",
       "    </tr>\n",
       "  </tbody>\n",
       "</table>\n",
       "</div>"
      ],
      "text/plain": [
       "                                           path  animal\n",
       "0  CDB_S1/A05/A05_R1/CDB_S1_A05_R1_IMAG0007.JPG   blank\n",
       "1  CDB_S1/A05/A05_R1/CDB_S1_A05_R1_IMAG0008.JPG  animal\n",
       "2  CDB_S1/A05/A05_R1/CDB_S1_A05_R1_IMAG0009.JPG  animal\n",
       "3  CDB_S1/A05/A05_R1/CDB_S1_A05_R1_IMAG0010.JPG  animal\n",
       "4  CDB_S1/A05/A05_R1/CDB_S1_A05_R1_IMAG0011.JPG  animal\n",
       "5  CDB_S1/A05/A05_R1/CDB_S1_A05_R1_IMAG0012.JPG  animal\n",
       "6  CDB_S1/A05/A05_R1/CDB_S1_A05_R1_IMAG0013.JPG  animal\n",
       "7  CDB_S1/A05/A05_R1/CDB_S1_A05_R1_IMAG0014.JPG  animal\n",
       "8  CDB_S1/A05/A05_R1/CDB_S1_A05_R1_IMAG0015.JPG  animal\n",
       "9  CDB_S1/A05/A05_R1/CDB_S1_A05_R1_IMAG0016.JPG  animal"
      ]
     },
     "execution_count": 22,
     "metadata": {},
     "output_type": "execute_result"
    }
   ],
   "source": [
    "X_2 = pd.read_csv(path/\"X_1.csv\", usecols = ['path','animal'])\n",
    "X_2.to_csv('X_2.csv', index=False)\n",
    "X_2.head(10)"
   ]
  },
  {
   "cell_type": "markdown",
   "metadata": {},
   "source": [
    "#### Create a tiny dataset to experiment with:"
   ]
  },
  {
   "cell_type": "code",
   "execution_count": 23,
   "metadata": {},
   "outputs": [
    {
     "data": {
      "text/plain": [
       "(1356, 2)"
      ]
     },
     "execution_count": 23,
     "metadata": {},
     "output_type": "execute_result"
    }
   ],
   "source": [
    "X_2_xxx = X_2.sample(frac=0.02, random_state=1)\n",
    "X_2_xxx.to_csv('X_2_xxx.csv', index=False)\n",
    "X_2_xxx.shape"
   ]
  },
  {
   "cell_type": "code",
   "execution_count": 24,
   "metadata": {},
   "outputs": [
    {
     "data": {
      "text/plain": [
       "<matplotlib.axes._subplots.AxesSubplot at 0x7f8a9d3b2050>"
      ]
     },
     "execution_count": 24,
     "metadata": {},
     "output_type": "execute_result"
    },
    {
     "data": {
      "image/png": "[encoded data removed]",
      "text/plain": [
       "<Figure size 432x288 with 1 Axes>"
      ]
     },
     "metadata": {
      "needs_background": "light"
     },
     "output_type": "display_data"
    }
   ],
   "source": [
    "X_2_xxx['animal'].value_counts().plot(kind='bar')"
   ]
  },
  {
   "cell_type": "code",
   "execution_count": null,
   "metadata": {},
   "outputs": [],
   "source": []
  }
 ],
 "metadata": {
  "kernelspec": {
   "display_name": "Python 3",
   "language": "python",
   "name": "python3"
  },
  "language_info": {
   "codemirror_mode": {
    "name": "ipython",
    "version": 3
   },
   "file_extension": ".py",
   "mimetype": "text/x-python",
   "name": "python",
   "nbconvert_exporter": "python",
   "pygments_lexer": "ipython3",
   "version": "3.7.6"
  }
 },
 "nbformat": 4,
 "nbformat_minor": 4
}
